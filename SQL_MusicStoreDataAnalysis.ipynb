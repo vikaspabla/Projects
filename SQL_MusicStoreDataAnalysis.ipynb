{
  "nbformat": 4,
  "nbformat_minor": 0,
  "metadata": {
    "colab": {
      "provenance": [],
      "authorship_tag": "ABX9TyPj5VjRnIRm7yle+vN2LmsO"
    },
    "kernelspec": {
      "name": "python3",
      "display_name": "Python 3"
    },
    "language_info": {
      "name": "python"
    }
  },
  "cells": [
    {
      "cell_type": "markdown",
      "source": [
        "# **Music Store Data Analysis Using SQL**"
      ],
      "metadata": {
        "id": "uLwr_Z_iFEl7"
      }
    },
    {
      "cell_type": "markdown",
      "source": [
        "### We are provided a database of a Music Store and some questions that could be solved with a query in SQL."
      ],
      "metadata": {
        "id": "JsH8rnP-FQXh"
      }
    },
    {
      "cell_type": "markdown",
      "source": [
        "### Question 1 - Who is the senior most employee based on the job title?\n",
        "\n",
        "\n",
        "\n"
      ],
      "metadata": {
        "id": "AzWz1Fx2FqhL"
      }
    },
    {
      "cell_type": "code",
      "source": [
        "select *\n",
        "from employee\n",
        "order by levels desc\n",
        "limit 1"
      ],
      "metadata": {
        "id": "ONaB8260F0X6"
      },
      "execution_count": null,
      "outputs": []
    },
    {
      "cell_type": "code",
      "source": [
        "#Answer - We have the table named employee which holds the information about all the employees.\n",
        "#We select the information from employee and to order the table by levels\n",
        "#which is respective to employees and their seniority in the company."
      ],
      "metadata": {
        "id": "Doh4t5wcMxg7"
      },
      "execution_count": null,
      "outputs": []
    },
    {
      "cell_type": "markdown",
      "source": [
        "### Question 2 - Which countries have the most invoices?"
      ],
      "metadata": {
        "id": "hJ_Blb_NIOb2"
      }
    },
    {
      "cell_type": "code",
      "source": [
        "select billing_country, count(billing_country)\n",
        "from invoice\n",
        "group by billing_country\n",
        "order by count desc"
      ],
      "metadata": {
        "id": "1XBlDdBkIS8m"
      },
      "execution_count": null,
      "outputs": []
    },
    {
      "cell_type": "code",
      "source": [
        "#Answer - After checking invoice table we saw that there are records of countries with their\n",
        "#respective invoices but we had to use count and greoup by sql queries to\n",
        "#get the countries in the order that had the most invoices."
      ],
      "metadata": {
        "id": "yb2TSojjOFp7"
      },
      "execution_count": null,
      "outputs": []
    },
    {
      "cell_type": "markdown",
      "source": [
        "### Question 3 - What are the top 3 values of total invoices?"
      ],
      "metadata": {
        "id": "xk3Y41v_InIf"
      }
    },
    {
      "cell_type": "code",
      "source": [
        "select *\n",
        "from invoice\n",
        "order by total desc\n",
        "limit 3"
      ],
      "metadata": {
        "id": "ZJF-BFbDIpgx"
      },
      "execution_count": null,
      "outputs": []
    },
    {
      "cell_type": "code",
      "source": [
        "#Answer - So for top 3 invoices we had to sort the table in descending order by total\n",
        "#column name and limiting the output to 3 by using limit function."
      ],
      "metadata": {
        "id": "UjECJaMxONMP"
      },
      "execution_count": null,
      "outputs": []
    },
    {
      "cell_type": "markdown",
      "source": [
        "### Question 4 - Which city has the best customers? We would like to throw a promotional Music Festival in the city we made the most money. Write a query that returns one city that has the highest sum of invoice totals. Return both the city name & sum of all invoice totals.\n"
      ],
      "metadata": {
        "id": "WubJD4NxOfOE"
      }
    },
    {
      "cell_type": "code",
      "source": [
        "select billing_city, sum(total)\n",
        "from invoice\n",
        "group by billing_city\n",
        "order by sum desc\n",
        "limit 1"
      ],
      "metadata": {
        "id": "ju0KuXpaOlVW"
      },
      "execution_count": null,
      "outputs": []
    },
    {
      "cell_type": "code",
      "source": [
        "#Answer - For finding best customers, we have to select the city and sum of the\n",
        "#total money spent by the customers in the respective cities and then ordering it in\n",
        "#descending order to find the city where customers purchased maximum music albums."
      ],
      "metadata": {
        "id": "dohl2af8OqQg"
      },
      "execution_count": null,
      "outputs": []
    },
    {
      "cell_type": "markdown",
      "source": [
        "### Question 5 - Who is the best customer? The customer who has spent the most money will be declared the best customer. Write a query that returns the person who has spent the most money.\n"
      ],
      "metadata": {
        "id": "jFIjd9P4Oyw7"
      }
    },
    {
      "cell_type": "code",
      "source": [
        "select customer_id, first_name, last_name, sum(total) as TotalSpent\n",
        "from customer\n",
        "join invoice\n",
        "using(customer_id)\n",
        "group by customer_id, first_name, last_name\n",
        "order by totalspent desc\n",
        "limit 1"
      ],
      "metadata": {
        "id": "ynKckyXrO303"
      },
      "execution_count": null,
      "outputs": []
    },
    {
      "cell_type": "code",
      "source": [
        "#Answer - To find out the customer who have spent the most money on albums and is beneficial to business,\n",
        "#we have to check through the customer table and invoice table, to see if there are matching values\n",
        "#because data of cutomers and money spent both are in different tables,\n",
        "#so we used inner join to filter out rest of the information and used this query to find the top customer."
      ],
      "metadata": {
        "id": "Emthlv8pO56N"
      },
      "execution_count": null,
      "outputs": []
    },
    {
      "cell_type": "markdown",
      "source": [
        "### Question 6 -  Write a query to return the email, first name, last name of all Rock Music listeners. Return your list ordered alphabetically by email starting with A.\n"
      ],
      "metadata": {
        "id": "q3AsFlqgPEQa"
      }
    },
    {
      "cell_type": "code",
      "source": [
        "select distinct email, first_name, last_name\n",
        "from customer\n",
        "join invoice using(customer_id)\n",
        "join invoice_line using(invoice_id)\n",
        "join track using(track_id)\n",
        "join genre using(genre_id)\n",
        "where genre_id = '1'\n",
        "order by email"
      ],
      "metadata": {
        "id": "SAWkSfkzPIlC"
      },
      "execution_count": null,
      "outputs": []
    },
    {
      "cell_type": "code",
      "source": [
        "#Answer - So to get the information of all rock listeners we need to go step by step joining\n",
        "#tables with same ids or any column that is similar, so first we used customer_id to\n",
        "#join custimer and invoice then invoice_id  to join further and so on we got the part where we\n",
        "#extracted the customers who listen to rock music with the genre_id."
      ],
      "metadata": {
        "id": "rRutqFcVPKwW"
      },
      "execution_count": null,
      "outputs": []
    },
    {
      "cell_type": "markdown",
      "source": [
        "### Question 7 - Let's invite the artists who have written the most rock music in our dataset. Write a query that returns the Artist name and total track count of the top 10 rock bands.\n"
      ],
      "metadata": {
        "id": "vX2uLxtjPVOV"
      }
    },
    {
      "cell_type": "code",
      "source": [
        "select artist.name, count(track.name) as track_count\n",
        "from artist\n",
        "join album using(artist_id)\n",
        "join track using(album_id)\n",
        "where genre_id = '1'\n",
        "group by artist.name\n",
        "order by track_count desc\n",
        "limit 10"
      ],
      "metadata": {
        "id": "lFuh9JcwPY1V"
      },
      "execution_count": null,
      "outputs": []
    },
    {
      "cell_type": "code",
      "source": [
        "#Answer -  We have to go through artist table and make our way through album and then track using columns that are same in them."
      ],
      "metadata": {
        "id": "8yKMFaixPa5e"
      },
      "execution_count": null,
      "outputs": []
    },
    {
      "cell_type": "markdown",
      "source": [
        "### Question 8 -  Return all the track names that have a song length longer than the average song length. Return the Name and Milliseconds for each track. Order by the song length with the longest songs listed first."
      ],
      "metadata": {
        "id": "DCKrPxuVPgLy"
      }
    },
    {
      "cell_type": "code",
      "source": [
        "select name, milliseconds\n",
        "from track\n",
        "where milliseconds >\n",
        "(select avg(milliseconds)\n",
        " from track)\n",
        "order by milliseconds desc"
      ],
      "metadata": {
        "id": "YrG4-C3nPk9H"
      },
      "execution_count": null,
      "outputs": []
    },
    {
      "cell_type": "code",
      "source": [
        "#Answer - To return milliseconds greater than avergae we use a subquery inside our main to compare the lengths in where statement."
      ],
      "metadata": {
        "id": "xn8DjbC8Pmwv"
      },
      "execution_count": null,
      "outputs": []
    },
    {
      "cell_type": "markdown",
      "source": [
        "### Question 9 -  Find how much amount spent by each customer on artists? Write a query to return customer name, artist name and total spent."
      ],
      "metadata": {
        "id": "YyclTFKtPryq"
      }
    },
    {
      "cell_type": "code",
      "source": [
        "WITH CTE AS (\n",
        "SELECT artist.artist_id, artist.name, sum(invoice_line.unit_price * invoice_line.quantity) as sales\n",
        "\tfrom artist\n",
        "\tjoin album using(artist_id)\n",
        "\tjoin track using(album_id)\n",
        "\tjoin invoice_line using(track_id)\n",
        "\tgroup by artist.artist_id, artist.name\n",
        "\torder by sales desc\n",
        "\tlimit 1\n",
        ")\n",
        "\n",
        "select customer_id, first_name, last_name, CTE.name, sum(invoice_line.unit_price * invoice_line.quantity) as Totall\n",
        "from customer\n",
        "join invoice using(customer_id)\n",
        "join invoice_line using(invoice_id)\n",
        "join track using(track_id)\n",
        "join album using(album_id)\n",
        "join CTE using(artist_id)\n",
        "group by customer_id, first_name, last_name, CTE.name\n",
        "order by Totall desc"
      ],
      "metadata": {
        "id": "pdZ1FoYUPwRc"
      },
      "execution_count": null,
      "outputs": []
    },
    {
      "cell_type": "code",
      "source": [
        "#Answer - Using CTE to get the sum as sales and then calling it in next query to get the required output."
      ],
      "metadata": {
        "id": "kjG3EEe4P8Pf"
      },
      "execution_count": null,
      "outputs": []
    },
    {
      "cell_type": "markdown",
      "source": [
        "### Question 10 - We want to find out the most popular music Genre for each country. We determine the most popular genre as the genre with the highest amount of purchases. Write a query that returns each country along with the top Genre. For countries where the maximum number of purchases is shared return all Genres.\n"
      ],
      "metadata": {
        "id": "OpuLEvseQOaD"
      }
    },
    {
      "cell_type": "code",
      "source": [
        "WITH CTE AS (\n",
        "select billing_country, genre.name, count(quantity),\n",
        "\trow_number() over (partition by billing_country order by count(quantity) desc) as RN\n",
        "from invoice\n",
        "join invoice_line using(invoice_id)\n",
        "join track using(track_id)\n",
        "join genre using(genre_id)\n",
        "group by 1, 2\n",
        "order by  billing_country asc, count desc\n",
        "\t)\n",
        "select * from CTE where RN = 1"
      ],
      "metadata": {
        "id": "hfN5OPbtQVLw"
      },
      "execution_count": null,
      "outputs": []
    },
    {
      "cell_type": "markdown",
      "source": [
        "### Question 11 - Write a query that determines the customer that has spent the most on music for each country. Write a query that returns the country along with the top customer and how much they spent. For countries where the top amount spent is shared, provide all customers who spent this amount.\n"
      ],
      "metadata": {
        "id": "CQT_b5XMQZgS"
      }
    },
    {
      "cell_type": "code",
      "source": [
        "WITH CTE AS (\n",
        "select first_name, last_name, country, sum(total),\n",
        "\trow_number() over(partition by country order by sum(total) desc) as RN\n",
        "from customer\n",
        "\tjoin invoice using(customer_id)\n",
        "\tgroup by 1, 2, 3\n",
        "\torder by country asc, sum(total) desc\n",
        ")\n",
        "select * from CTE where RN = 1"
      ],
      "metadata": {
        "id": "roDf-5M-QeFZ"
      },
      "execution_count": null,
      "outputs": []
    }
  ]
}