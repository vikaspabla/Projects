{
  "nbformat": 4,
  "nbformat_minor": 0,
  "metadata": {
    "colab": {
      "provenance": [],
      "authorship_tag": "ABX9TyNy9ovsdzZzQuoPhACuLgCr"
    },
    "kernelspec": {
      "name": "python3",
      "display_name": "Python 3"
    },
    "language_info": {
      "name": "python"
    }
  },
  "cells": [
    {
      "cell_type": "markdown",
      "source": [
        "# **Music Store Data Analysis Using SQL**"
      ],
      "metadata": {
        "id": "uLwr_Z_iFEl7"
      }
    },
    {
      "cell_type": "markdown",
      "source": [
        "## We are provided a database of a Music Store and some questions that could be solved with a query in SQL."
      ],
      "metadata": {
        "id": "JsH8rnP-FQXh"
      }
    },
    {
      "cell_type": "markdown",
      "source": [
        "# Question 1 - Who is the senior most employee based on the job title?"
      ],
      "metadata": {
        "id": "AzWz1Fx2FqhL"
      }
    },
    {
      "cell_type": "code",
      "source": [
        "select *\n",
        "from employee\n",
        "order by levels desc\n",
        "limit 1"
      ],
      "metadata": {
        "id": "ONaB8260F0X6"
      },
      "execution_count": null,
      "outputs": []
    },
    {
      "cell_type": "markdown",
      "source": [
        "### Ans - We have the table named employee which holds the information about all the employees.  We select the information from employee and to order the table by levels which is respective to employees and their seniority in the company.\n"
      ],
      "metadata": {
        "id": "XhHApAB5GIIT"
      }
    }
  ]
}