{
  "nbformat": 4,
  "nbformat_minor": 0,
  "metadata": {
    "colab": {
      "provenance": [],
      "authorship_tag": "ABX9TyP3HPFhT1L2Ii/D4LFY4I33"
    },
    "kernelspec": {
      "name": "python3",
      "display_name": "Python 3"
    },
    "language_info": {
      "name": "python"
    }
  },
  "cells": [
    {
      "cell_type": "markdown",
      "source": [
        "# **WorldPopulation2023-ExploratoryDataAnalysis**"
      ],
      "metadata": {
        "id": "3M8ItIa3odWw"
      }
    },
    {
      "cell_type": "markdown",
      "source": [
        "# Importing Libraries"
      ],
      "metadata": {
        "id": "aJiZPvpFomTf"
      }
    },
    {
      "cell_type": "code",
      "source": [
        "import pandas as pd\n",
        "import matplotlib.pyplot as plt\n",
        "import seaborn as sns"
      ],
      "metadata": {
        "id": "_5TW_6hr5wBA"
      },
      "execution_count": 37,
      "outputs": []
    },
    {
      "cell_type": "markdown",
      "source": [
        "# Assigning the Excel file to a dataframe"
      ],
      "metadata": {
        "id": "FmaoVtmUowIt"
      }
    },
    {
      "cell_type": "code",
      "source": [
        "df = pd.read_excel(\"wp.xlsx\")\n",
        "df"
      ],
      "metadata": {
        "colab": {
          "base_uri": "https://localhost:8080/",
          "height": 424
        },
        "id": "5LTho8_y5-7t",
        "outputId": "c736f5a3-9290-4673-8114-49b01d41c6a6"
      },
      "execution_count": 38,
      "outputs": [
        {
          "output_type": "execute_result",
          "data": {
            "text/plain": [
              "         # Country (or dependency)  Population  Yearly       Net  Density  \\\n",
              "0      NaN                     NaN       -2023  Change    Change  (P/Km²)   \n",
              "1     1.00                   India  1428627663    0.01  11454490      481   \n",
              "2     2.00                   China  1425671352   -0.00   -215985      152   \n",
              "3     3.00           United States   339996563    0.01   1706706       37   \n",
              "4     4.00               Indonesia   277534122    0.01   2032783      153   \n",
              "..     ...                     ...         ...     ...       ...      ...   \n",
              "230 230.00              Montserrat        4386   -0.00        -4       44   \n",
              "231 231.00        Falkland Islands        3791    0.00        11        0   \n",
              "232 232.00                    Niue        1935    0.00         1        7   \n",
              "233 233.00                 Tokelau        1893    0.01        22      189   \n",
              "234 234.00                Holy See         518    0.02         8     1295   \n",
              "\n",
              "    Land Area Migrants Fert.  World  \n",
              "0       (Km²)    (net)  Rate  Share  \n",
              "1     2973190  -486136     2   0.18  \n",
              "2     9388211  -310220  1.20   0.18  \n",
              "3     9147420   999700  1.70   0.04  \n",
              "4     1811570   -49997  2.10   0.03  \n",
              "..        ...      ...   ...    ...  \n",
              "230       100        0  1.60      0  \n",
              "231     12170        0  1.60      0  \n",
              "232       260        0  2.40      0  \n",
              "233        10        0  2.60      0  \n",
              "234         0        0   NaN      0  \n",
              "\n",
              "[235 rows x 10 columns]"
            ],
            "text/html": [
              "\n",
              "\n",
              "  <div id=\"df-41e5ccf4-0936-456f-8379-a1017ceb359f\">\n",
              "    <div class=\"colab-df-container\">\n",
              "      <div>\n",
              "<style scoped>\n",
              "    .dataframe tbody tr th:only-of-type {\n",
              "        vertical-align: middle;\n",
              "    }\n",
              "\n",
              "    .dataframe tbody tr th {\n",
              "        vertical-align: top;\n",
              "    }\n",
              "\n",
              "    .dataframe thead th {\n",
              "        text-align: right;\n",
              "    }\n",
              "</style>\n",
              "<table border=\"1\" class=\"dataframe\">\n",
              "  <thead>\n",
              "    <tr style=\"text-align: right;\">\n",
              "      <th></th>\n",
              "      <th>#</th>\n",
              "      <th>Country (or dependency)</th>\n",
              "      <th>Population</th>\n",
              "      <th>Yearly</th>\n",
              "      <th>Net</th>\n",
              "      <th>Density</th>\n",
              "      <th>Land Area</th>\n",
              "      <th>Migrants</th>\n",
              "      <th>Fert.</th>\n",
              "      <th>World</th>\n",
              "    </tr>\n",
              "  </thead>\n",
              "  <tbody>\n",
              "    <tr>\n",
              "      <th>0</th>\n",
              "      <td>NaN</td>\n",
              "      <td>NaN</td>\n",
              "      <td>-2023</td>\n",
              "      <td>Change</td>\n",
              "      <td>Change</td>\n",
              "      <td>(P/Km²)</td>\n",
              "      <td>(Km²)</td>\n",
              "      <td>(net)</td>\n",
              "      <td>Rate</td>\n",
              "      <td>Share</td>\n",
              "    </tr>\n",
              "    <tr>\n",
              "      <th>1</th>\n",
              "      <td>1.00</td>\n",
              "      <td>India</td>\n",
              "      <td>1428627663</td>\n",
              "      <td>0.01</td>\n",
              "      <td>11454490</td>\n",
              "      <td>481</td>\n",
              "      <td>2973190</td>\n",
              "      <td>-486136</td>\n",
              "      <td>2</td>\n",
              "      <td>0.18</td>\n",
              "    </tr>\n",
              "    <tr>\n",
              "      <th>2</th>\n",
              "      <td>2.00</td>\n",
              "      <td>China</td>\n",
              "      <td>1425671352</td>\n",
              "      <td>-0.00</td>\n",
              "      <td>-215985</td>\n",
              "      <td>152</td>\n",
              "      <td>9388211</td>\n",
              "      <td>-310220</td>\n",
              "      <td>1.20</td>\n",
              "      <td>0.18</td>\n",
              "    </tr>\n",
              "    <tr>\n",
              "      <th>3</th>\n",
              "      <td>3.00</td>\n",
              "      <td>United States</td>\n",
              "      <td>339996563</td>\n",
              "      <td>0.01</td>\n",
              "      <td>1706706</td>\n",
              "      <td>37</td>\n",
              "      <td>9147420</td>\n",
              "      <td>999700</td>\n",
              "      <td>1.70</td>\n",
              "      <td>0.04</td>\n",
              "    </tr>\n",
              "    <tr>\n",
              "      <th>4</th>\n",
              "      <td>4.00</td>\n",
              "      <td>Indonesia</td>\n",
              "      <td>277534122</td>\n",
              "      <td>0.01</td>\n",
              "      <td>2032783</td>\n",
              "      <td>153</td>\n",
              "      <td>1811570</td>\n",
              "      <td>-49997</td>\n",
              "      <td>2.10</td>\n",
              "      <td>0.03</td>\n",
              "    </tr>\n",
              "    <tr>\n",
              "      <th>...</th>\n",
              "      <td>...</td>\n",
              "      <td>...</td>\n",
              "      <td>...</td>\n",
              "      <td>...</td>\n",
              "      <td>...</td>\n",
              "      <td>...</td>\n",
              "      <td>...</td>\n",
              "      <td>...</td>\n",
              "      <td>...</td>\n",
              "      <td>...</td>\n",
              "    </tr>\n",
              "    <tr>\n",
              "      <th>230</th>\n",
              "      <td>230.00</td>\n",
              "      <td>Montserrat</td>\n",
              "      <td>4386</td>\n",
              "      <td>-0.00</td>\n",
              "      <td>-4</td>\n",
              "      <td>44</td>\n",
              "      <td>100</td>\n",
              "      <td>0</td>\n",
              "      <td>1.60</td>\n",
              "      <td>0</td>\n",
              "    </tr>\n",
              "    <tr>\n",
              "      <th>231</th>\n",
              "      <td>231.00</td>\n",
              "      <td>Falkland Islands</td>\n",
              "      <td>3791</td>\n",
              "      <td>0.00</td>\n",
              "      <td>11</td>\n",
              "      <td>0</td>\n",
              "      <td>12170</td>\n",
              "      <td>0</td>\n",
              "      <td>1.60</td>\n",
              "      <td>0</td>\n",
              "    </tr>\n",
              "    <tr>\n",
              "      <th>232</th>\n",
              "      <td>232.00</td>\n",
              "      <td>Niue</td>\n",
              "      <td>1935</td>\n",
              "      <td>0.00</td>\n",
              "      <td>1</td>\n",
              "      <td>7</td>\n",
              "      <td>260</td>\n",
              "      <td>0</td>\n",
              "      <td>2.40</td>\n",
              "      <td>0</td>\n",
              "    </tr>\n",
              "    <tr>\n",
              "      <th>233</th>\n",
              "      <td>233.00</td>\n",
              "      <td>Tokelau</td>\n",
              "      <td>1893</td>\n",
              "      <td>0.01</td>\n",
              "      <td>22</td>\n",
              "      <td>189</td>\n",
              "      <td>10</td>\n",
              "      <td>0</td>\n",
              "      <td>2.60</td>\n",
              "      <td>0</td>\n",
              "    </tr>\n",
              "    <tr>\n",
              "      <th>234</th>\n",
              "      <td>234.00</td>\n",
              "      <td>Holy See</td>\n",
              "      <td>518</td>\n",
              "      <td>0.02</td>\n",
              "      <td>8</td>\n",
              "      <td>1295</td>\n",
              "      <td>0</td>\n",
              "      <td>0</td>\n",
              "      <td>NaN</td>\n",
              "      <td>0</td>\n",
              "    </tr>\n",
              "  </tbody>\n",
              "</table>\n",
              "<p>235 rows × 10 columns</p>\n",
              "</div>\n",
              "      <button class=\"colab-df-convert\" onclick=\"convertToInteractive('df-41e5ccf4-0936-456f-8379-a1017ceb359f')\"\n",
              "              title=\"Convert this dataframe to an interactive table.\"\n",
              "              style=\"display:none;\">\n",
              "\n",
              "  <svg xmlns=\"http://www.w3.org/2000/svg\" height=\"24px\"viewBox=\"0 0 24 24\"\n",
              "       width=\"24px\">\n",
              "    <path d=\"M0 0h24v24H0V0z\" fill=\"none\"/>\n",
              "    <path d=\"M18.56 5.44l.94 2.06.94-2.06 2.06-.94-2.06-.94-.94-2.06-.94 2.06-2.06.94zm-11 1L8.5 8.5l.94-2.06 2.06-.94-2.06-.94L8.5 2.5l-.94 2.06-2.06.94zm10 10l.94 2.06.94-2.06 2.06-.94-2.06-.94-.94-2.06-.94 2.06-2.06.94z\"/><path d=\"M17.41 7.96l-1.37-1.37c-.4-.4-.92-.59-1.43-.59-.52 0-1.04.2-1.43.59L10.3 9.45l-7.72 7.72c-.78.78-.78 2.05 0 2.83L4 21.41c.39.39.9.59 1.41.59.51 0 1.02-.2 1.41-.59l7.78-7.78 2.81-2.81c.8-.78.8-2.07 0-2.86zM5.41 20L4 18.59l7.72-7.72 1.47 1.35L5.41 20z\"/>\n",
              "  </svg>\n",
              "      </button>\n",
              "\n",
              "\n",
              "\n",
              "    <div id=\"df-fcc29fa0-9cc7-4dec-8b31-f31d60aed1e6\">\n",
              "      <button class=\"colab-df-quickchart\" onclick=\"quickchart('df-fcc29fa0-9cc7-4dec-8b31-f31d60aed1e6')\"\n",
              "              title=\"Suggest charts.\"\n",
              "              style=\"display:none;\">\n",
              "\n",
              "<svg xmlns=\"http://www.w3.org/2000/svg\" height=\"24px\"viewBox=\"0 0 24 24\"\n",
              "     width=\"24px\">\n",
              "    <g>\n",
              "        <path d=\"M19 3H5c-1.1 0-2 .9-2 2v14c0 1.1.9 2 2 2h14c1.1 0 2-.9 2-2V5c0-1.1-.9-2-2-2zM9 17H7v-7h2v7zm4 0h-2V7h2v10zm4 0h-2v-4h2v4z\"/>\n",
              "    </g>\n",
              "</svg>\n",
              "      </button>\n",
              "    </div>\n",
              "\n",
              "<style>\n",
              "  .colab-df-quickchart {\n",
              "    background-color: #E8F0FE;\n",
              "    border: none;\n",
              "    border-radius: 50%;\n",
              "    cursor: pointer;\n",
              "    display: none;\n",
              "    fill: #1967D2;\n",
              "    height: 32px;\n",
              "    padding: 0 0 0 0;\n",
              "    width: 32px;\n",
              "  }\n",
              "\n",
              "  .colab-df-quickchart:hover {\n",
              "    background-color: #E2EBFA;\n",
              "    box-shadow: 0px 1px 2px rgba(60, 64, 67, 0.3), 0px 1px 3px 1px rgba(60, 64, 67, 0.15);\n",
              "    fill: #174EA6;\n",
              "  }\n",
              "\n",
              "  [theme=dark] .colab-df-quickchart {\n",
              "    background-color: #3B4455;\n",
              "    fill: #D2E3FC;\n",
              "  }\n",
              "\n",
              "  [theme=dark] .colab-df-quickchart:hover {\n",
              "    background-color: #434B5C;\n",
              "    box-shadow: 0px 1px 3px 1px rgba(0, 0, 0, 0.15);\n",
              "    filter: drop-shadow(0px 1px 2px rgba(0, 0, 0, 0.3));\n",
              "    fill: #FFFFFF;\n",
              "  }\n",
              "</style>\n",
              "\n",
              "    <script>\n",
              "      async function quickchart(key) {\n",
              "        const containerElement = document.querySelector('#' + key);\n",
              "        const charts = await google.colab.kernel.invokeFunction(\n",
              "            'suggestCharts', [key], {});\n",
              "      }\n",
              "    </script>\n",
              "\n",
              "      <script>\n",
              "\n",
              "function displayQuickchartButton(domScope) {\n",
              "  let quickchartButtonEl =\n",
              "    domScope.querySelector('#df-fcc29fa0-9cc7-4dec-8b31-f31d60aed1e6 button.colab-df-quickchart');\n",
              "  quickchartButtonEl.style.display =\n",
              "    google.colab.kernel.accessAllowed ? 'block' : 'none';\n",
              "}\n",
              "\n",
              "        displayQuickchartButton(document);\n",
              "      </script>\n",
              "      <style>\n",
              "    .colab-df-container {\n",
              "      display:flex;\n",
              "      flex-wrap:wrap;\n",
              "      gap: 12px;\n",
              "    }\n",
              "\n",
              "    .colab-df-convert {\n",
              "      background-color: #E8F0FE;\n",
              "      border: none;\n",
              "      border-radius: 50%;\n",
              "      cursor: pointer;\n",
              "      display: none;\n",
              "      fill: #1967D2;\n",
              "      height: 32px;\n",
              "      padding: 0 0 0 0;\n",
              "      width: 32px;\n",
              "    }\n",
              "\n",
              "    .colab-df-convert:hover {\n",
              "      background-color: #E2EBFA;\n",
              "      box-shadow: 0px 1px 2px rgba(60, 64, 67, 0.3), 0px 1px 3px 1px rgba(60, 64, 67, 0.15);\n",
              "      fill: #174EA6;\n",
              "    }\n",
              "\n",
              "    [theme=dark] .colab-df-convert {\n",
              "      background-color: #3B4455;\n",
              "      fill: #D2E3FC;\n",
              "    }\n",
              "\n",
              "    [theme=dark] .colab-df-convert:hover {\n",
              "      background-color: #434B5C;\n",
              "      box-shadow: 0px 1px 3px 1px rgba(0, 0, 0, 0.15);\n",
              "      filter: drop-shadow(0px 1px 2px rgba(0, 0, 0, 0.3));\n",
              "      fill: #FFFFFF;\n",
              "    }\n",
              "  </style>\n",
              "\n",
              "      <script>\n",
              "        const buttonEl =\n",
              "          document.querySelector('#df-41e5ccf4-0936-456f-8379-a1017ceb359f button.colab-df-convert');\n",
              "        buttonEl.style.display =\n",
              "          google.colab.kernel.accessAllowed ? 'block' : 'none';\n",
              "\n",
              "        async function convertToInteractive(key) {\n",
              "          const element = document.querySelector('#df-41e5ccf4-0936-456f-8379-a1017ceb359f');\n",
              "          const dataTable =\n",
              "            await google.colab.kernel.invokeFunction('convertToInteractive',\n",
              "                                                     [key], {});\n",
              "          if (!dataTable) return;\n",
              "\n",
              "          const docLinkHtml = 'Like what you see? Visit the ' +\n",
              "            '<a target=\"_blank\" href=https://colab.research.google.com/notebooks/data_table.ipynb>data table notebook</a>'\n",
              "            + ' to learn more about interactive tables.';\n",
              "          element.innerHTML = '';\n",
              "          dataTable['output_type'] = 'display_data';\n",
              "          await google.colab.output.renderOutput(dataTable, element);\n",
              "          const docLink = document.createElement('div');\n",
              "          docLink.innerHTML = docLinkHtml;\n",
              "          element.appendChild(docLink);\n",
              "        }\n",
              "      </script>\n",
              "    </div>\n",
              "  </div>\n"
            ]
          },
          "metadata": {},
          "execution_count": 38
        }
      ]
    },
    {
      "cell_type": "markdown",
      "source": [
        "# Renaming Columns as per needs and convenience"
      ],
      "metadata": {
        "id": "yiEJ6i7bo66u"
      }
    },
    {
      "cell_type": "code",
      "source": [
        "#Using rename columns in pandas\n",
        "df = df.rename(columns={'Country (or dependency)': 'Country', 'Population': 'Population-2023', 'Yearly': 'Yearly Change', 'Net': 'Net Change', 'Density': 'Density (P/Km²)', 'Land Area': 'Land Area (Km²)', 'Migrants': 'Migrants(net)', 'Fert.': 'Fertility Rate', 'World': 'World Share'})\n",
        "df"
      ],
      "metadata": {
        "colab": {
          "base_uri": "https://localhost:8080/",
          "height": 424
        },
        "id": "suAeN1AO749M",
        "outputId": "6152b1d2-aeea-4aa8-87eb-6178c860d921"
      },
      "execution_count": 39,
      "outputs": [
        {
          "output_type": "execute_result",
          "data": {
            "text/plain": [
              "         #           Country  Population-2023 Yearly Change Net Change  \\\n",
              "0      NaN               NaN            -2023        Change     Change   \n",
              "1     1.00             India       1428627663          0.01   11454490   \n",
              "2     2.00             China       1425671352         -0.00    -215985   \n",
              "3     3.00     United States        339996563          0.01    1706706   \n",
              "4     4.00         Indonesia        277534122          0.01    2032783   \n",
              "..     ...               ...              ...           ...        ...   \n",
              "230 230.00        Montserrat             4386         -0.00         -4   \n",
              "231 231.00  Falkland Islands             3791          0.00         11   \n",
              "232 232.00              Niue             1935          0.00          1   \n",
              "233 233.00           Tokelau             1893          0.01         22   \n",
              "234 234.00          Holy See              518          0.02          8   \n",
              "\n",
              "    Density (P/Km²) Land Area (Km²) Migrants(net) Fertility Rate World Share  \n",
              "0           (P/Km²)           (Km²)         (net)           Rate       Share  \n",
              "1               481         2973190       -486136              2        0.18  \n",
              "2               152         9388211       -310220           1.20        0.18  \n",
              "3                37         9147420        999700           1.70        0.04  \n",
              "4               153         1811570        -49997           2.10        0.03  \n",
              "..              ...             ...           ...            ...         ...  \n",
              "230              44             100             0           1.60           0  \n",
              "231               0           12170             0           1.60           0  \n",
              "232               7             260             0           2.40           0  \n",
              "233             189              10             0           2.60           0  \n",
              "234            1295               0             0            NaN           0  \n",
              "\n",
              "[235 rows x 10 columns]"
            ],
            "text/html": [
              "\n",
              "\n",
              "  <div id=\"df-ec47ea4e-00d9-4346-b510-8280d11c3550\">\n",
              "    <div class=\"colab-df-container\">\n",
              "      <div>\n",
              "<style scoped>\n",
              "    .dataframe tbody tr th:only-of-type {\n",
              "        vertical-align: middle;\n",
              "    }\n",
              "\n",
              "    .dataframe tbody tr th {\n",
              "        vertical-align: top;\n",
              "    }\n",
              "\n",
              "    .dataframe thead th {\n",
              "        text-align: right;\n",
              "    }\n",
              "</style>\n",
              "<table border=\"1\" class=\"dataframe\">\n",
              "  <thead>\n",
              "    <tr style=\"text-align: right;\">\n",
              "      <th></th>\n",
              "      <th>#</th>\n",
              "      <th>Country</th>\n",
              "      <th>Population-2023</th>\n",
              "      <th>Yearly Change</th>\n",
              "      <th>Net Change</th>\n",
              "      <th>Density (P/Km²)</th>\n",
              "      <th>Land Area (Km²)</th>\n",
              "      <th>Migrants(net)</th>\n",
              "      <th>Fertility Rate</th>\n",
              "      <th>World Share</th>\n",
              "    </tr>\n",
              "  </thead>\n",
              "  <tbody>\n",
              "    <tr>\n",
              "      <th>0</th>\n",
              "      <td>NaN</td>\n",
              "      <td>NaN</td>\n",
              "      <td>-2023</td>\n",
              "      <td>Change</td>\n",
              "      <td>Change</td>\n",
              "      <td>(P/Km²)</td>\n",
              "      <td>(Km²)</td>\n",
              "      <td>(net)</td>\n",
              "      <td>Rate</td>\n",
              "      <td>Share</td>\n",
              "    </tr>\n",
              "    <tr>\n",
              "      <th>1</th>\n",
              "      <td>1.00</td>\n",
              "      <td>India</td>\n",
              "      <td>1428627663</td>\n",
              "      <td>0.01</td>\n",
              "      <td>11454490</td>\n",
              "      <td>481</td>\n",
              "      <td>2973190</td>\n",
              "      <td>-486136</td>\n",
              "      <td>2</td>\n",
              "      <td>0.18</td>\n",
              "    </tr>\n",
              "    <tr>\n",
              "      <th>2</th>\n",
              "      <td>2.00</td>\n",
              "      <td>China</td>\n",
              "      <td>1425671352</td>\n",
              "      <td>-0.00</td>\n",
              "      <td>-215985</td>\n",
              "      <td>152</td>\n",
              "      <td>9388211</td>\n",
              "      <td>-310220</td>\n",
              "      <td>1.20</td>\n",
              "      <td>0.18</td>\n",
              "    </tr>\n",
              "    <tr>\n",
              "      <th>3</th>\n",
              "      <td>3.00</td>\n",
              "      <td>United States</td>\n",
              "      <td>339996563</td>\n",
              "      <td>0.01</td>\n",
              "      <td>1706706</td>\n",
              "      <td>37</td>\n",
              "      <td>9147420</td>\n",
              "      <td>999700</td>\n",
              "      <td>1.70</td>\n",
              "      <td>0.04</td>\n",
              "    </tr>\n",
              "    <tr>\n",
              "      <th>4</th>\n",
              "      <td>4.00</td>\n",
              "      <td>Indonesia</td>\n",
              "      <td>277534122</td>\n",
              "      <td>0.01</td>\n",
              "      <td>2032783</td>\n",
              "      <td>153</td>\n",
              "      <td>1811570</td>\n",
              "      <td>-49997</td>\n",
              "      <td>2.10</td>\n",
              "      <td>0.03</td>\n",
              "    </tr>\n",
              "    <tr>\n",
              "      <th>...</th>\n",
              "      <td>...</td>\n",
              "      <td>...</td>\n",
              "      <td>...</td>\n",
              "      <td>...</td>\n",
              "      <td>...</td>\n",
              "      <td>...</td>\n",
              "      <td>...</td>\n",
              "      <td>...</td>\n",
              "      <td>...</td>\n",
              "      <td>...</td>\n",
              "    </tr>\n",
              "    <tr>\n",
              "      <th>230</th>\n",
              "      <td>230.00</td>\n",
              "      <td>Montserrat</td>\n",
              "      <td>4386</td>\n",
              "      <td>-0.00</td>\n",
              "      <td>-4</td>\n",
              "      <td>44</td>\n",
              "      <td>100</td>\n",
              "      <td>0</td>\n",
              "      <td>1.60</td>\n",
              "      <td>0</td>\n",
              "    </tr>\n",
              "    <tr>\n",
              "      <th>231</th>\n",
              "      <td>231.00</td>\n",
              "      <td>Falkland Islands</td>\n",
              "      <td>3791</td>\n",
              "      <td>0.00</td>\n",
              "      <td>11</td>\n",
              "      <td>0</td>\n",
              "      <td>12170</td>\n",
              "      <td>0</td>\n",
              "      <td>1.60</td>\n",
              "      <td>0</td>\n",
              "    </tr>\n",
              "    <tr>\n",
              "      <th>232</th>\n",
              "      <td>232.00</td>\n",
              "      <td>Niue</td>\n",
              "      <td>1935</td>\n",
              "      <td>0.00</td>\n",
              "      <td>1</td>\n",
              "      <td>7</td>\n",
              "      <td>260</td>\n",
              "      <td>0</td>\n",
              "      <td>2.40</td>\n",
              "      <td>0</td>\n",
              "    </tr>\n",
              "    <tr>\n",
              "      <th>233</th>\n",
              "      <td>233.00</td>\n",
              "      <td>Tokelau</td>\n",
              "      <td>1893</td>\n",
              "      <td>0.01</td>\n",
              "      <td>22</td>\n",
              "      <td>189</td>\n",
              "      <td>10</td>\n",
              "      <td>0</td>\n",
              "      <td>2.60</td>\n",
              "      <td>0</td>\n",
              "    </tr>\n",
              "    <tr>\n",
              "      <th>234</th>\n",
              "      <td>234.00</td>\n",
              "      <td>Holy See</td>\n",
              "      <td>518</td>\n",
              "      <td>0.02</td>\n",
              "      <td>8</td>\n",
              "      <td>1295</td>\n",
              "      <td>0</td>\n",
              "      <td>0</td>\n",
              "      <td>NaN</td>\n",
              "      <td>0</td>\n",
              "    </tr>\n",
              "  </tbody>\n",
              "</table>\n",
              "<p>235 rows × 10 columns</p>\n",
              "</div>\n",
              "      <button class=\"colab-df-convert\" onclick=\"convertToInteractive('df-ec47ea4e-00d9-4346-b510-8280d11c3550')\"\n",
              "              title=\"Convert this dataframe to an interactive table.\"\n",
              "              style=\"display:none;\">\n",
              "\n",
              "  <svg xmlns=\"http://www.w3.org/2000/svg\" height=\"24px\"viewBox=\"0 0 24 24\"\n",
              "       width=\"24px\">\n",
              "    <path d=\"M0 0h24v24H0V0z\" fill=\"none\"/>\n",
              "    <path d=\"M18.56 5.44l.94 2.06.94-2.06 2.06-.94-2.06-.94-.94-2.06-.94 2.06-2.06.94zm-11 1L8.5 8.5l.94-2.06 2.06-.94-2.06-.94L8.5 2.5l-.94 2.06-2.06.94zm10 10l.94 2.06.94-2.06 2.06-.94-2.06-.94-.94-2.06-.94 2.06-2.06.94z\"/><path d=\"M17.41 7.96l-1.37-1.37c-.4-.4-.92-.59-1.43-.59-.52 0-1.04.2-1.43.59L10.3 9.45l-7.72 7.72c-.78.78-.78 2.05 0 2.83L4 21.41c.39.39.9.59 1.41.59.51 0 1.02-.2 1.41-.59l7.78-7.78 2.81-2.81c.8-.78.8-2.07 0-2.86zM5.41 20L4 18.59l7.72-7.72 1.47 1.35L5.41 20z\"/>\n",
              "  </svg>\n",
              "      </button>\n",
              "\n",
              "\n",
              "\n",
              "    <div id=\"df-a17aee72-e1e0-42e9-91a6-0d0c3cf7459f\">\n",
              "      <button class=\"colab-df-quickchart\" onclick=\"quickchart('df-a17aee72-e1e0-42e9-91a6-0d0c3cf7459f')\"\n",
              "              title=\"Suggest charts.\"\n",
              "              style=\"display:none;\">\n",
              "\n",
              "<svg xmlns=\"http://www.w3.org/2000/svg\" height=\"24px\"viewBox=\"0 0 24 24\"\n",
              "     width=\"24px\">\n",
              "    <g>\n",
              "        <path d=\"M19 3H5c-1.1 0-2 .9-2 2v14c0 1.1.9 2 2 2h14c1.1 0 2-.9 2-2V5c0-1.1-.9-2-2-2zM9 17H7v-7h2v7zm4 0h-2V7h2v10zm4 0h-2v-4h2v4z\"/>\n",
              "    </g>\n",
              "</svg>\n",
              "      </button>\n",
              "    </div>\n",
              "\n",
              "<style>\n",
              "  .colab-df-quickchart {\n",
              "    background-color: #E8F0FE;\n",
              "    border: none;\n",
              "    border-radius: 50%;\n",
              "    cursor: pointer;\n",
              "    display: none;\n",
              "    fill: #1967D2;\n",
              "    height: 32px;\n",
              "    padding: 0 0 0 0;\n",
              "    width: 32px;\n",
              "  }\n",
              "\n",
              "  .colab-df-quickchart:hover {\n",
              "    background-color: #E2EBFA;\n",
              "    box-shadow: 0px 1px 2px rgba(60, 64, 67, 0.3), 0px 1px 3px 1px rgba(60, 64, 67, 0.15);\n",
              "    fill: #174EA6;\n",
              "  }\n",
              "\n",
              "  [theme=dark] .colab-df-quickchart {\n",
              "    background-color: #3B4455;\n",
              "    fill: #D2E3FC;\n",
              "  }\n",
              "\n",
              "  [theme=dark] .colab-df-quickchart:hover {\n",
              "    background-color: #434B5C;\n",
              "    box-shadow: 0px 1px 3px 1px rgba(0, 0, 0, 0.15);\n",
              "    filter: drop-shadow(0px 1px 2px rgba(0, 0, 0, 0.3));\n",
              "    fill: #FFFFFF;\n",
              "  }\n",
              "</style>\n",
              "\n",
              "    <script>\n",
              "      async function quickchart(key) {\n",
              "        const containerElement = document.querySelector('#' + key);\n",
              "        const charts = await google.colab.kernel.invokeFunction(\n",
              "            'suggestCharts', [key], {});\n",
              "      }\n",
              "    </script>\n",
              "\n",
              "      <script>\n",
              "\n",
              "function displayQuickchartButton(domScope) {\n",
              "  let quickchartButtonEl =\n",
              "    domScope.querySelector('#df-a17aee72-e1e0-42e9-91a6-0d0c3cf7459f button.colab-df-quickchart');\n",
              "  quickchartButtonEl.style.display =\n",
              "    google.colab.kernel.accessAllowed ? 'block' : 'none';\n",
              "}\n",
              "\n",
              "        displayQuickchartButton(document);\n",
              "      </script>\n",
              "      <style>\n",
              "    .colab-df-container {\n",
              "      display:flex;\n",
              "      flex-wrap:wrap;\n",
              "      gap: 12px;\n",
              "    }\n",
              "\n",
              "    .colab-df-convert {\n",
              "      background-color: #E8F0FE;\n",
              "      border: none;\n",
              "      border-radius: 50%;\n",
              "      cursor: pointer;\n",
              "      display: none;\n",
              "      fill: #1967D2;\n",
              "      height: 32px;\n",
              "      padding: 0 0 0 0;\n",
              "      width: 32px;\n",
              "    }\n",
              "\n",
              "    .colab-df-convert:hover {\n",
              "      background-color: #E2EBFA;\n",
              "      box-shadow: 0px 1px 2px rgba(60, 64, 67, 0.3), 0px 1px 3px 1px rgba(60, 64, 67, 0.15);\n",
              "      fill: #174EA6;\n",
              "    }\n",
              "\n",
              "    [theme=dark] .colab-df-convert {\n",
              "      background-color: #3B4455;\n",
              "      fill: #D2E3FC;\n",
              "    }\n",
              "\n",
              "    [theme=dark] .colab-df-convert:hover {\n",
              "      background-color: #434B5C;\n",
              "      box-shadow: 0px 1px 3px 1px rgba(0, 0, 0, 0.15);\n",
              "      filter: drop-shadow(0px 1px 2px rgba(0, 0, 0, 0.3));\n",
              "      fill: #FFFFFF;\n",
              "    }\n",
              "  </style>\n",
              "\n",
              "      <script>\n",
              "        const buttonEl =\n",
              "          document.querySelector('#df-ec47ea4e-00d9-4346-b510-8280d11c3550 button.colab-df-convert');\n",
              "        buttonEl.style.display =\n",
              "          google.colab.kernel.accessAllowed ? 'block' : 'none';\n",
              "\n",
              "        async function convertToInteractive(key) {\n",
              "          const element = document.querySelector('#df-ec47ea4e-00d9-4346-b510-8280d11c3550');\n",
              "          const dataTable =\n",
              "            await google.colab.kernel.invokeFunction('convertToInteractive',\n",
              "                                                     [key], {});\n",
              "          if (!dataTable) return;\n",
              "\n",
              "          const docLinkHtml = 'Like what you see? Visit the ' +\n",
              "            '<a target=\"_blank\" href=https://colab.research.google.com/notebooks/data_table.ipynb>data table notebook</a>'\n",
              "            + ' to learn more about interactive tables.';\n",
              "          element.innerHTML = '';\n",
              "          dataTable['output_type'] = 'display_data';\n",
              "          await google.colab.output.renderOutput(dataTable, element);\n",
              "          const docLink = document.createElement('div');\n",
              "          docLink.innerHTML = docLinkHtml;\n",
              "          element.appendChild(docLink);\n",
              "        }\n",
              "      </script>\n",
              "    </div>\n",
              "  </div>\n"
            ]
          },
          "metadata": {},
          "execution_count": 39
        }
      ]
    },
    {
      "cell_type": "markdown",
      "source": [
        "# Dropping the unnecessary row"
      ],
      "metadata": {
        "id": "dbmHSS2BpJMy"
      }
    },
    {
      "cell_type": "code",
      "source": [
        "#Using frop function with 0 to drop tyhe first row\n",
        "df = df.drop(0)\n",
        "df"
      ],
      "metadata": {
        "colab": {
          "base_uri": "https://localhost:8080/",
          "height": 424
        },
        "id": "kHbNqEqz7-UB",
        "outputId": "6e8efa67-e947-4401-e911-1e45ddcf2738"
      },
      "execution_count": 40,
      "outputs": [
        {
          "output_type": "execute_result",
          "data": {
            "text/plain": [
              "         #           Country  Population-2023 Yearly Change Net Change  \\\n",
              "1     1.00             India       1428627663          0.01   11454490   \n",
              "2     2.00             China       1425671352         -0.00    -215985   \n",
              "3     3.00     United States        339996563          0.01    1706706   \n",
              "4     4.00         Indonesia        277534122          0.01    2032783   \n",
              "5     5.00          Pakistan        240485658          0.02    4660796   \n",
              "..     ...               ...              ...           ...        ...   \n",
              "230 230.00        Montserrat             4386         -0.00         -4   \n",
              "231 231.00  Falkland Islands             3791          0.00         11   \n",
              "232 232.00              Niue             1935          0.00          1   \n",
              "233 233.00           Tokelau             1893          0.01         22   \n",
              "234 234.00          Holy See              518          0.02          8   \n",
              "\n",
              "    Density (P/Km²) Land Area (Km²) Migrants(net) Fertility Rate World Share  \n",
              "1               481         2973190       -486136              2        0.18  \n",
              "2               152         9388211       -310220           1.20        0.18  \n",
              "3                37         9147420        999700           1.70        0.04  \n",
              "4               153         1811570        -49997           2.10        0.03  \n",
              "5               312          770880       -165988           3.30        0.03  \n",
              "..              ...             ...           ...            ...         ...  \n",
              "230              44             100             0           1.60           0  \n",
              "231               0           12170             0           1.60           0  \n",
              "232               7             260             0           2.40           0  \n",
              "233             189              10             0           2.60           0  \n",
              "234            1295               0             0            NaN           0  \n",
              "\n",
              "[234 rows x 10 columns]"
            ],
            "text/html": [
              "\n",
              "\n",
              "  <div id=\"df-2f4dd6b6-58d0-4859-880c-a0d3e6ba8bc6\">\n",
              "    <div class=\"colab-df-container\">\n",
              "      <div>\n",
              "<style scoped>\n",
              "    .dataframe tbody tr th:only-of-type {\n",
              "        vertical-align: middle;\n",
              "    }\n",
              "\n",
              "    .dataframe tbody tr th {\n",
              "        vertical-align: top;\n",
              "    }\n",
              "\n",
              "    .dataframe thead th {\n",
              "        text-align: right;\n",
              "    }\n",
              "</style>\n",
              "<table border=\"1\" class=\"dataframe\">\n",
              "  <thead>\n",
              "    <tr style=\"text-align: right;\">\n",
              "      <th></th>\n",
              "      <th>#</th>\n",
              "      <th>Country</th>\n",
              "      <th>Population-2023</th>\n",
              "      <th>Yearly Change</th>\n",
              "      <th>Net Change</th>\n",
              "      <th>Density (P/Km²)</th>\n",
              "      <th>Land Area (Km²)</th>\n",
              "      <th>Migrants(net)</th>\n",
              "      <th>Fertility Rate</th>\n",
              "      <th>World Share</th>\n",
              "    </tr>\n",
              "  </thead>\n",
              "  <tbody>\n",
              "    <tr>\n",
              "      <th>1</th>\n",
              "      <td>1.00</td>\n",
              "      <td>India</td>\n",
              "      <td>1428627663</td>\n",
              "      <td>0.01</td>\n",
              "      <td>11454490</td>\n",
              "      <td>481</td>\n",
              "      <td>2973190</td>\n",
              "      <td>-486136</td>\n",
              "      <td>2</td>\n",
              "      <td>0.18</td>\n",
              "    </tr>\n",
              "    <tr>\n",
              "      <th>2</th>\n",
              "      <td>2.00</td>\n",
              "      <td>China</td>\n",
              "      <td>1425671352</td>\n",
              "      <td>-0.00</td>\n",
              "      <td>-215985</td>\n",
              "      <td>152</td>\n",
              "      <td>9388211</td>\n",
              "      <td>-310220</td>\n",
              "      <td>1.20</td>\n",
              "      <td>0.18</td>\n",
              "    </tr>\n",
              "    <tr>\n",
              "      <th>3</th>\n",
              "      <td>3.00</td>\n",
              "      <td>United States</td>\n",
              "      <td>339996563</td>\n",
              "      <td>0.01</td>\n",
              "      <td>1706706</td>\n",
              "      <td>37</td>\n",
              "      <td>9147420</td>\n",
              "      <td>999700</td>\n",
              "      <td>1.70</td>\n",
              "      <td>0.04</td>\n",
              "    </tr>\n",
              "    <tr>\n",
              "      <th>4</th>\n",
              "      <td>4.00</td>\n",
              "      <td>Indonesia</td>\n",
              "      <td>277534122</td>\n",
              "      <td>0.01</td>\n",
              "      <td>2032783</td>\n",
              "      <td>153</td>\n",
              "      <td>1811570</td>\n",
              "      <td>-49997</td>\n",
              "      <td>2.10</td>\n",
              "      <td>0.03</td>\n",
              "    </tr>\n",
              "    <tr>\n",
              "      <th>5</th>\n",
              "      <td>5.00</td>\n",
              "      <td>Pakistan</td>\n",
              "      <td>240485658</td>\n",
              "      <td>0.02</td>\n",
              "      <td>4660796</td>\n",
              "      <td>312</td>\n",
              "      <td>770880</td>\n",
              "      <td>-165988</td>\n",
              "      <td>3.30</td>\n",
              "      <td>0.03</td>\n",
              "    </tr>\n",
              "    <tr>\n",
              "      <th>...</th>\n",
              "      <td>...</td>\n",
              "      <td>...</td>\n",
              "      <td>...</td>\n",
              "      <td>...</td>\n",
              "      <td>...</td>\n",
              "      <td>...</td>\n",
              "      <td>...</td>\n",
              "      <td>...</td>\n",
              "      <td>...</td>\n",
              "      <td>...</td>\n",
              "    </tr>\n",
              "    <tr>\n",
              "      <th>230</th>\n",
              "      <td>230.00</td>\n",
              "      <td>Montserrat</td>\n",
              "      <td>4386</td>\n",
              "      <td>-0.00</td>\n",
              "      <td>-4</td>\n",
              "      <td>44</td>\n",
              "      <td>100</td>\n",
              "      <td>0</td>\n",
              "      <td>1.60</td>\n",
              "      <td>0</td>\n",
              "    </tr>\n",
              "    <tr>\n",
              "      <th>231</th>\n",
              "      <td>231.00</td>\n",
              "      <td>Falkland Islands</td>\n",
              "      <td>3791</td>\n",
              "      <td>0.00</td>\n",
              "      <td>11</td>\n",
              "      <td>0</td>\n",
              "      <td>12170</td>\n",
              "      <td>0</td>\n",
              "      <td>1.60</td>\n",
              "      <td>0</td>\n",
              "    </tr>\n",
              "    <tr>\n",
              "      <th>232</th>\n",
              "      <td>232.00</td>\n",
              "      <td>Niue</td>\n",
              "      <td>1935</td>\n",
              "      <td>0.00</td>\n",
              "      <td>1</td>\n",
              "      <td>7</td>\n",
              "      <td>260</td>\n",
              "      <td>0</td>\n",
              "      <td>2.40</td>\n",
              "      <td>0</td>\n",
              "    </tr>\n",
              "    <tr>\n",
              "      <th>233</th>\n",
              "      <td>233.00</td>\n",
              "      <td>Tokelau</td>\n",
              "      <td>1893</td>\n",
              "      <td>0.01</td>\n",
              "      <td>22</td>\n",
              "      <td>189</td>\n",
              "      <td>10</td>\n",
              "      <td>0</td>\n",
              "      <td>2.60</td>\n",
              "      <td>0</td>\n",
              "    </tr>\n",
              "    <tr>\n",
              "      <th>234</th>\n",
              "      <td>234.00</td>\n",
              "      <td>Holy See</td>\n",
              "      <td>518</td>\n",
              "      <td>0.02</td>\n",
              "      <td>8</td>\n",
              "      <td>1295</td>\n",
              "      <td>0</td>\n",
              "      <td>0</td>\n",
              "      <td>NaN</td>\n",
              "      <td>0</td>\n",
              "    </tr>\n",
              "  </tbody>\n",
              "</table>\n",
              "<p>234 rows × 10 columns</p>\n",
              "</div>\n",
              "      <button class=\"colab-df-convert\" onclick=\"convertToInteractive('df-2f4dd6b6-58d0-4859-880c-a0d3e6ba8bc6')\"\n",
              "              title=\"Convert this dataframe to an interactive table.\"\n",
              "              style=\"display:none;\">\n",
              "\n",
              "  <svg xmlns=\"http://www.w3.org/2000/svg\" height=\"24px\"viewBox=\"0 0 24 24\"\n",
              "       width=\"24px\">\n",
              "    <path d=\"M0 0h24v24H0V0z\" fill=\"none\"/>\n",
              "    <path d=\"M18.56 5.44l.94 2.06.94-2.06 2.06-.94-2.06-.94-.94-2.06-.94 2.06-2.06.94zm-11 1L8.5 8.5l.94-2.06 2.06-.94-2.06-.94L8.5 2.5l-.94 2.06-2.06.94zm10 10l.94 2.06.94-2.06 2.06-.94-2.06-.94-.94-2.06-.94 2.06-2.06.94z\"/><path d=\"M17.41 7.96l-1.37-1.37c-.4-.4-.92-.59-1.43-.59-.52 0-1.04.2-1.43.59L10.3 9.45l-7.72 7.72c-.78.78-.78 2.05 0 2.83L4 21.41c.39.39.9.59 1.41.59.51 0 1.02-.2 1.41-.59l7.78-7.78 2.81-2.81c.8-.78.8-2.07 0-2.86zM5.41 20L4 18.59l7.72-7.72 1.47 1.35L5.41 20z\"/>\n",
              "  </svg>\n",
              "      </button>\n",
              "\n",
              "\n",
              "\n",
              "    <div id=\"df-00dae659-6acd-4a47-830c-eb7d9b2c4603\">\n",
              "      <button class=\"colab-df-quickchart\" onclick=\"quickchart('df-00dae659-6acd-4a47-830c-eb7d9b2c4603')\"\n",
              "              title=\"Suggest charts.\"\n",
              "              style=\"display:none;\">\n",
              "\n",
              "<svg xmlns=\"http://www.w3.org/2000/svg\" height=\"24px\"viewBox=\"0 0 24 24\"\n",
              "     width=\"24px\">\n",
              "    <g>\n",
              "        <path d=\"M19 3H5c-1.1 0-2 .9-2 2v14c0 1.1.9 2 2 2h14c1.1 0 2-.9 2-2V5c0-1.1-.9-2-2-2zM9 17H7v-7h2v7zm4 0h-2V7h2v10zm4 0h-2v-4h2v4z\"/>\n",
              "    </g>\n",
              "</svg>\n",
              "      </button>\n",
              "    </div>\n",
              "\n",
              "<style>\n",
              "  .colab-df-quickchart {\n",
              "    background-color: #E8F0FE;\n",
              "    border: none;\n",
              "    border-radius: 50%;\n",
              "    cursor: pointer;\n",
              "    display: none;\n",
              "    fill: #1967D2;\n",
              "    height: 32px;\n",
              "    padding: 0 0 0 0;\n",
              "    width: 32px;\n",
              "  }\n",
              "\n",
              "  .colab-df-quickchart:hover {\n",
              "    background-color: #E2EBFA;\n",
              "    box-shadow: 0px 1px 2px rgba(60, 64, 67, 0.3), 0px 1px 3px 1px rgba(60, 64, 67, 0.15);\n",
              "    fill: #174EA6;\n",
              "  }\n",
              "\n",
              "  [theme=dark] .colab-df-quickchart {\n",
              "    background-color: #3B4455;\n",
              "    fill: #D2E3FC;\n",
              "  }\n",
              "\n",
              "  [theme=dark] .colab-df-quickchart:hover {\n",
              "    background-color: #434B5C;\n",
              "    box-shadow: 0px 1px 3px 1px rgba(0, 0, 0, 0.15);\n",
              "    filter: drop-shadow(0px 1px 2px rgba(0, 0, 0, 0.3));\n",
              "    fill: #FFFFFF;\n",
              "  }\n",
              "</style>\n",
              "\n",
              "    <script>\n",
              "      async function quickchart(key) {\n",
              "        const containerElement = document.querySelector('#' + key);\n",
              "        const charts = await google.colab.kernel.invokeFunction(\n",
              "            'suggestCharts', [key], {});\n",
              "      }\n",
              "    </script>\n",
              "\n",
              "      <script>\n",
              "\n",
              "function displayQuickchartButton(domScope) {\n",
              "  let quickchartButtonEl =\n",
              "    domScope.querySelector('#df-00dae659-6acd-4a47-830c-eb7d9b2c4603 button.colab-df-quickchart');\n",
              "  quickchartButtonEl.style.display =\n",
              "    google.colab.kernel.accessAllowed ? 'block' : 'none';\n",
              "}\n",
              "\n",
              "        displayQuickchartButton(document);\n",
              "      </script>\n",
              "      <style>\n",
              "    .colab-df-container {\n",
              "      display:flex;\n",
              "      flex-wrap:wrap;\n",
              "      gap: 12px;\n",
              "    }\n",
              "\n",
              "    .colab-df-convert {\n",
              "      background-color: #E8F0FE;\n",
              "      border: none;\n",
              "      border-radius: 50%;\n",
              "      cursor: pointer;\n",
              "      display: none;\n",
              "      fill: #1967D2;\n",
              "      height: 32px;\n",
              "      padding: 0 0 0 0;\n",
              "      width: 32px;\n",
              "    }\n",
              "\n",
              "    .colab-df-convert:hover {\n",
              "      background-color: #E2EBFA;\n",
              "      box-shadow: 0px 1px 2px rgba(60, 64, 67, 0.3), 0px 1px 3px 1px rgba(60, 64, 67, 0.15);\n",
              "      fill: #174EA6;\n",
              "    }\n",
              "\n",
              "    [theme=dark] .colab-df-convert {\n",
              "      background-color: #3B4455;\n",
              "      fill: #D2E3FC;\n",
              "    }\n",
              "\n",
              "    [theme=dark] .colab-df-convert:hover {\n",
              "      background-color: #434B5C;\n",
              "      box-shadow: 0px 1px 3px 1px rgba(0, 0, 0, 0.15);\n",
              "      filter: drop-shadow(0px 1px 2px rgba(0, 0, 0, 0.3));\n",
              "      fill: #FFFFFF;\n",
              "    }\n",
              "  </style>\n",
              "\n",
              "      <script>\n",
              "        const buttonEl =\n",
              "          document.querySelector('#df-2f4dd6b6-58d0-4859-880c-a0d3e6ba8bc6 button.colab-df-convert');\n",
              "        buttonEl.style.display =\n",
              "          google.colab.kernel.accessAllowed ? 'block' : 'none';\n",
              "\n",
              "        async function convertToInteractive(key) {\n",
              "          const element = document.querySelector('#df-2f4dd6b6-58d0-4859-880c-a0d3e6ba8bc6');\n",
              "          const dataTable =\n",
              "            await google.colab.kernel.invokeFunction('convertToInteractive',\n",
              "                                                     [key], {});\n",
              "          if (!dataTable) return;\n",
              "\n",
              "          const docLinkHtml = 'Like what you see? Visit the ' +\n",
              "            '<a target=\"_blank\" href=https://colab.research.google.com/notebooks/data_table.ipynb>data table notebook</a>'\n",
              "            + ' to learn more about interactive tables.';\n",
              "          element.innerHTML = '';\n",
              "          dataTable['output_type'] = 'display_data';\n",
              "          await google.colab.output.renderOutput(dataTable, element);\n",
              "          const docLink = document.createElement('div');\n",
              "          docLink.innerHTML = docLinkHtml;\n",
              "          element.appendChild(docLink);\n",
              "        }\n",
              "      </script>\n",
              "    </div>\n",
              "  </div>\n"
            ]
          },
          "metadata": {},
          "execution_count": 40
        }
      ]
    },
    {
      "cell_type": "markdown",
      "source": [
        "# Overhead View of the dataframe"
      ],
      "metadata": {
        "id": "UgVf1-iBpU3v"
      }
    },
    {
      "cell_type": "code",
      "source": [
        "#Info function to see all the columns and their null counts\n",
        "df.info()"
      ],
      "metadata": {
        "colab": {
          "base_uri": "https://localhost:8080/"
        },
        "id": "W1A7uX_w8nCf",
        "outputId": "ba6af267-f7bf-4229-f427-34ca9c970eb1"
      },
      "execution_count": 41,
      "outputs": [
        {
          "output_type": "stream",
          "name": "stdout",
          "text": [
            "<class 'pandas.core.frame.DataFrame'>\n",
            "RangeIndex: 234 entries, 1 to 234\n",
            "Data columns (total 10 columns):\n",
            " #   Column           Non-Null Count  Dtype  \n",
            "---  ------           --------------  -----  \n",
            " 0   #                234 non-null    float64\n",
            " 1   Country          234 non-null    object \n",
            " 2   Population-2023  234 non-null    int64  \n",
            " 3   Yearly Change    234 non-null    object \n",
            " 4   Net Change       234 non-null    object \n",
            " 5   Density (P/Km²)  234 non-null    object \n",
            " 6   Land Area (Km²)  234 non-null    object \n",
            " 7   Migrants(net)    234 non-null    object \n",
            " 8   Fertility Rate   233 non-null    object \n",
            " 9   World Share      234 non-null    object \n",
            "dtypes: float64(1), int64(1), object(8)\n",
            "memory usage: 18.4+ KB\n"
          ]
        }
      ]
    },
    {
      "cell_type": "markdown",
      "source": [
        "# Checking the shape of dataframe"
      ],
      "metadata": {
        "id": "p-m3bi-RpkMJ"
      }
    },
    {
      "cell_type": "code",
      "source": [
        "df.shape"
      ],
      "metadata": {
        "colab": {
          "base_uri": "https://localhost:8080/"
        },
        "id": "nTEmtfO68vJn",
        "outputId": "3596ee9f-1e4c-43cc-e978-a23ebe5acaa8"
      },
      "execution_count": 42,
      "outputs": [
        {
          "output_type": "execute_result",
          "data": {
            "text/plain": [
              "(234, 10)"
            ]
          },
          "metadata": {},
          "execution_count": 42
        }
      ]
    },
    {
      "cell_type": "code",
      "source": [
        "df.describe()"
      ],
      "metadata": {
        "colab": {
          "base_uri": "https://localhost:8080/",
          "height": 300
        },
        "id": "iinLKYZ680nO",
        "outputId": "8a8c6201-37e9-475c-c07c-1f43914425da"
      },
      "execution_count": 44,
      "outputs": [
        {
          "output_type": "execute_result",
          "data": {
            "text/plain": [
              "           #  Population-2023\n",
              "count 234.00           234.00\n",
              "mean  117.50      34375647.88\n",
              "std    67.69     137386102.42\n",
              "min     1.00           518.00\n",
              "25%    59.25        469648.25\n",
              "50%   117.50       5643895.00\n",
              "75%   175.75      23245367.25\n",
              "max   234.00    1428627663.00"
            ],
            "text/html": [
              "\n",
              "\n",
              "  <div id=\"df-149b187a-5761-47c2-9890-7dff72df0e07\">\n",
              "    <div class=\"colab-df-container\">\n",
              "      <div>\n",
              "<style scoped>\n",
              "    .dataframe tbody tr th:only-of-type {\n",
              "        vertical-align: middle;\n",
              "    }\n",
              "\n",
              "    .dataframe tbody tr th {\n",
              "        vertical-align: top;\n",
              "    }\n",
              "\n",
              "    .dataframe thead th {\n",
              "        text-align: right;\n",
              "    }\n",
              "</style>\n",
              "<table border=\"1\" class=\"dataframe\">\n",
              "  <thead>\n",
              "    <tr style=\"text-align: right;\">\n",
              "      <th></th>\n",
              "      <th>#</th>\n",
              "      <th>Population-2023</th>\n",
              "    </tr>\n",
              "  </thead>\n",
              "  <tbody>\n",
              "    <tr>\n",
              "      <th>count</th>\n",
              "      <td>234.00</td>\n",
              "      <td>234.00</td>\n",
              "    </tr>\n",
              "    <tr>\n",
              "      <th>mean</th>\n",
              "      <td>117.50</td>\n",
              "      <td>34375647.88</td>\n",
              "    </tr>\n",
              "    <tr>\n",
              "      <th>std</th>\n",
              "      <td>67.69</td>\n",
              "      <td>137386102.42</td>\n",
              "    </tr>\n",
              "    <tr>\n",
              "      <th>min</th>\n",
              "      <td>1.00</td>\n",
              "      <td>518.00</td>\n",
              "    </tr>\n",
              "    <tr>\n",
              "      <th>25%</th>\n",
              "      <td>59.25</td>\n",
              "      <td>469648.25</td>\n",
              "    </tr>\n",
              "    <tr>\n",
              "      <th>50%</th>\n",
              "      <td>117.50</td>\n",
              "      <td>5643895.00</td>\n",
              "    </tr>\n",
              "    <tr>\n",
              "      <th>75%</th>\n",
              "      <td>175.75</td>\n",
              "      <td>23245367.25</td>\n",
              "    </tr>\n",
              "    <tr>\n",
              "      <th>max</th>\n",
              "      <td>234.00</td>\n",
              "      <td>1428627663.00</td>\n",
              "    </tr>\n",
              "  </tbody>\n",
              "</table>\n",
              "</div>\n",
              "      <button class=\"colab-df-convert\" onclick=\"convertToInteractive('df-149b187a-5761-47c2-9890-7dff72df0e07')\"\n",
              "              title=\"Convert this dataframe to an interactive table.\"\n",
              "              style=\"display:none;\">\n",
              "\n",
              "  <svg xmlns=\"http://www.w3.org/2000/svg\" height=\"24px\"viewBox=\"0 0 24 24\"\n",
              "       width=\"24px\">\n",
              "    <path d=\"M0 0h24v24H0V0z\" fill=\"none\"/>\n",
              "    <path d=\"M18.56 5.44l.94 2.06.94-2.06 2.06-.94-2.06-.94-.94-2.06-.94 2.06-2.06.94zm-11 1L8.5 8.5l.94-2.06 2.06-.94-2.06-.94L8.5 2.5l-.94 2.06-2.06.94zm10 10l.94 2.06.94-2.06 2.06-.94-2.06-.94-.94-2.06-.94 2.06-2.06.94z\"/><path d=\"M17.41 7.96l-1.37-1.37c-.4-.4-.92-.59-1.43-.59-.52 0-1.04.2-1.43.59L10.3 9.45l-7.72 7.72c-.78.78-.78 2.05 0 2.83L4 21.41c.39.39.9.59 1.41.59.51 0 1.02-.2 1.41-.59l7.78-7.78 2.81-2.81c.8-.78.8-2.07 0-2.86zM5.41 20L4 18.59l7.72-7.72 1.47 1.35L5.41 20z\"/>\n",
              "  </svg>\n",
              "      </button>\n",
              "\n",
              "\n",
              "\n",
              "    <div id=\"df-4219425f-81c3-4f8d-b6c3-692292ebbe38\">\n",
              "      <button class=\"colab-df-quickchart\" onclick=\"quickchart('df-4219425f-81c3-4f8d-b6c3-692292ebbe38')\"\n",
              "              title=\"Suggest charts.\"\n",
              "              style=\"display:none;\">\n",
              "\n",
              "<svg xmlns=\"http://www.w3.org/2000/svg\" height=\"24px\"viewBox=\"0 0 24 24\"\n",
              "     width=\"24px\">\n",
              "    <g>\n",
              "        <path d=\"M19 3H5c-1.1 0-2 .9-2 2v14c0 1.1.9 2 2 2h14c1.1 0 2-.9 2-2V5c0-1.1-.9-2-2-2zM9 17H7v-7h2v7zm4 0h-2V7h2v10zm4 0h-2v-4h2v4z\"/>\n",
              "    </g>\n",
              "</svg>\n",
              "      </button>\n",
              "    </div>\n",
              "\n",
              "<style>\n",
              "  .colab-df-quickchart {\n",
              "    background-color: #E8F0FE;\n",
              "    border: none;\n",
              "    border-radius: 50%;\n",
              "    cursor: pointer;\n",
              "    display: none;\n",
              "    fill: #1967D2;\n",
              "    height: 32px;\n",
              "    padding: 0 0 0 0;\n",
              "    width: 32px;\n",
              "  }\n",
              "\n",
              "  .colab-df-quickchart:hover {\n",
              "    background-color: #E2EBFA;\n",
              "    box-shadow: 0px 1px 2px rgba(60, 64, 67, 0.3), 0px 1px 3px 1px rgba(60, 64, 67, 0.15);\n",
              "    fill: #174EA6;\n",
              "  }\n",
              "\n",
              "  [theme=dark] .colab-df-quickchart {\n",
              "    background-color: #3B4455;\n",
              "    fill: #D2E3FC;\n",
              "  }\n",
              "\n",
              "  [theme=dark] .colab-df-quickchart:hover {\n",
              "    background-color: #434B5C;\n",
              "    box-shadow: 0px 1px 3px 1px rgba(0, 0, 0, 0.15);\n",
              "    filter: drop-shadow(0px 1px 2px rgba(0, 0, 0, 0.3));\n",
              "    fill: #FFFFFF;\n",
              "  }\n",
              "</style>\n",
              "\n",
              "    <script>\n",
              "      async function quickchart(key) {\n",
              "        const containerElement = document.querySelector('#' + key);\n",
              "        const charts = await google.colab.kernel.invokeFunction(\n",
              "            'suggestCharts', [key], {});\n",
              "      }\n",
              "    </script>\n",
              "\n",
              "      <script>\n",
              "\n",
              "function displayQuickchartButton(domScope) {\n",
              "  let quickchartButtonEl =\n",
              "    domScope.querySelector('#df-4219425f-81c3-4f8d-b6c3-692292ebbe38 button.colab-df-quickchart');\n",
              "  quickchartButtonEl.style.display =\n",
              "    google.colab.kernel.accessAllowed ? 'block' : 'none';\n",
              "}\n",
              "\n",
              "        displayQuickchartButton(document);\n",
              "      </script>\n",
              "      <style>\n",
              "    .colab-df-container {\n",
              "      display:flex;\n",
              "      flex-wrap:wrap;\n",
              "      gap: 12px;\n",
              "    }\n",
              "\n",
              "    .colab-df-convert {\n",
              "      background-color: #E8F0FE;\n",
              "      border: none;\n",
              "      border-radius: 50%;\n",
              "      cursor: pointer;\n",
              "      display: none;\n",
              "      fill: #1967D2;\n",
              "      height: 32px;\n",
              "      padding: 0 0 0 0;\n",
              "      width: 32px;\n",
              "    }\n",
              "\n",
              "    .colab-df-convert:hover {\n",
              "      background-color: #E2EBFA;\n",
              "      box-shadow: 0px 1px 2px rgba(60, 64, 67, 0.3), 0px 1px 3px 1px rgba(60, 64, 67, 0.15);\n",
              "      fill: #174EA6;\n",
              "    }\n",
              "\n",
              "    [theme=dark] .colab-df-convert {\n",
              "      background-color: #3B4455;\n",
              "      fill: #D2E3FC;\n",
              "    }\n",
              "\n",
              "    [theme=dark] .colab-df-convert:hover {\n",
              "      background-color: #434B5C;\n",
              "      box-shadow: 0px 1px 3px 1px rgba(0, 0, 0, 0.15);\n",
              "      filter: drop-shadow(0px 1px 2px rgba(0, 0, 0, 0.3));\n",
              "      fill: #FFFFFF;\n",
              "    }\n",
              "  </style>\n",
              "\n",
              "      <script>\n",
              "        const buttonEl =\n",
              "          document.querySelector('#df-149b187a-5761-47c2-9890-7dff72df0e07 button.colab-df-convert');\n",
              "        buttonEl.style.display =\n",
              "          google.colab.kernel.accessAllowed ? 'block' : 'none';\n",
              "\n",
              "        async function convertToInteractive(key) {\n",
              "          const element = document.querySelector('#df-149b187a-5761-47c2-9890-7dff72df0e07');\n",
              "          const dataTable =\n",
              "            await google.colab.kernel.invokeFunction('convertToInteractive',\n",
              "                                                     [key], {});\n",
              "          if (!dataTable) return;\n",
              "\n",
              "          const docLinkHtml = 'Like what you see? Visit the ' +\n",
              "            '<a target=\"_blank\" href=https://colab.research.google.com/notebooks/data_table.ipynb>data table notebook</a>'\n",
              "            + ' to learn more about interactive tables.';\n",
              "          element.innerHTML = '';\n",
              "          dataTable['output_type'] = 'display_data';\n",
              "          await google.colab.output.renderOutput(dataTable, element);\n",
              "          const docLink = document.createElement('div');\n",
              "          docLink.innerHTML = docLinkHtml;\n",
              "          element.appendChild(docLink);\n",
              "        }\n",
              "      </script>\n",
              "    </div>\n",
              "  </div>\n"
            ]
          },
          "metadata": {},
          "execution_count": 44
        }
      ]
    },
    {
      "cell_type": "markdown",
      "source": [
        "# Checking the dataframe for unique values"
      ],
      "metadata": {
        "id": "liRU__Hepnkm"
      }
    },
    {
      "cell_type": "code",
      "source": [
        "#nunique function returns the count of all unique values\n",
        "df.nunique()"
      ],
      "metadata": {
        "colab": {
          "base_uri": "https://localhost:8080/"
        },
        "id": "GBxLwEMhABHI",
        "outputId": "d856a0c0-fa83-429d-ff1e-acf87fbe5a4f"
      },
      "execution_count": 45,
      "outputs": [
        {
          "output_type": "execute_result",
          "data": {
            "text/plain": [
              "#                  234\n",
              "Country            234\n",
              "Population-2023    234\n",
              "Yearly Change      176\n",
              "Net Change         234\n",
              "Density (P/Km²)    168\n",
              "Land Area (Km²)    225\n",
              "Migrants(net)      144\n",
              "Fertility Rate      45\n",
              "World Share         69\n",
              "dtype: int64"
            ]
          },
          "metadata": {},
          "execution_count": 45
        }
      ]
    },
    {
      "cell_type": "markdown",
      "source": [
        "# Checking the dataframe for any outliers"
      ],
      "metadata": {
        "id": "5KUR9MRQpxXy"
      }
    },
    {
      "cell_type": "code",
      "source": [
        "#there is outliers in the data but it is acceptable as we are dealing with large numbers in world population\n",
        "df.boxplot()"
      ],
      "metadata": {
        "colab": {
          "base_uri": "https://localhost:8080/",
          "height": 462
        },
        "id": "VpAazgIVAFHZ",
        "outputId": "a698eed0-1e39-4807-ff1f-c2a6de1472a2"
      },
      "execution_count": 47,
      "outputs": [
        {
          "output_type": "execute_result",
          "data": {
            "text/plain": [
              "<Axes: >"
            ]
          },
          "metadata": {},
          "execution_count": 47
        },
        {
          "output_type": "display_data",
          "data": {
            "text/plain": [
              "<Figure size 640x480 with 1 Axes>"
            ],
            "image/png": "[encoded data removed]"
          },
          "metadata": {}
        }
      ]
    },
    {
      "cell_type": "markdown",
      "source": [
        "# Visualizing the Top 10 Populated Countries in a Bar Chart"
      ],
      "metadata": {
        "id": "dYgB0FFRqDUf"
      }
    },
    {
      "cell_type": "code",
      "source": [
        "#extracting the name and population of top countries by using head function\n",
        "#using seaborn barplot for visualization of top 10 populated countries\n",
        "top_10_countries = df[['Country', 'Population-2023']].head(10)\n",
        "sns.barplot(x = 'Country', y = 'Population-2023', data = top_10_countries)\n",
        "plt.title('Top 10 Populated Countries')\n",
        "plt.rcParams['figure.figsize'] = (12,7)\n",
        "\n",
        "\n",
        "\n"
      ],
      "metadata": {
        "colab": {
          "base_uri": "https://localhost:8080/",
          "height": 641
        },
        "id": "AkbU9Ea7AgtI",
        "outputId": "cda508e2-1059-4e35-d56d-e148d75a5b30"
      },
      "execution_count": 173,
      "outputs": [
        {
          "output_type": "display_data",
          "data": {
            "text/plain": [
              "<Figure size 1200x700 with 1 Axes>"
            ],
            "image/png": "[encoded data removed]"
          },
          "metadata": {}
        }
      ]
    },
    {
      "cell_type": "markdown",
      "source": [
        "### From the chart, it is evident that 'INDIA' is the most populated country as of 2023 closely followed by 'CHINA'."
      ],
      "metadata": {
        "id": "x5oh2eaGqrCz"
      }
    },
    {
      "cell_type": "markdown",
      "source": [
        "# Visualizing the Bottom 10 Populated Countries in a Bar Chart"
      ],
      "metadata": {
        "id": "vw0hbvIQq4fl"
      }
    },
    {
      "cell_type": "code",
      "source": [
        "#extracting the name and population of bottom countries by using head function and sorting the values by population in ascending order\n",
        "#using seaborn barplot for visualization of bottom 10 populated countries\n",
        "bottom_10_countries = df.sort_values(by='Population-2023', ascending = True).head(10)\n",
        "ax = sns.barplot(x = 'Country', y = 'Population-2023', data = bottom_10_countries)\n",
        "\n",
        "#roatating the names of countries to get a better view at them without overlapping problem\n",
        "ax.set_xticklabels(ax.get_xticklabels(), rotation=40, ha=\"right\")\n",
        "plt.title('Bottom 10 Populated Countries')\n",
        "plt.rcParams['figure.figsize'] = (15,7)\n",
        "\n"
      ],
      "metadata": {
        "colab": {
          "base_uri": "https://localhost:8080/",
          "height": 742
        },
        "id": "g1QjoCDKBUI4",
        "outputId": "99220ca0-4163-422c-f73e-010b75b2dee2"
      },
      "execution_count": 168,
      "outputs": [
        {
          "output_type": "display_data",
          "data": {
            "text/plain": [
              "<Figure size 1000x700 with 1 Axes>"
            ],
            "image/png": "[encoded data removed]"
          },
          "metadata": {}
        }
      ]
    },
    {
      "cell_type": "markdown",
      "source": [
        "### Holy See has the lowest population!"
      ],
      "metadata": {
        "id": "m48JBwfjsrdg"
      }
    },
    {
      "cell_type": "markdown",
      "source": [
        "# Visualizing the Top 10 Fastest Growing Populations in a Bar Chart"
      ],
      "metadata": {
        "id": "4dqe2NWdrVjE"
      }
    },
    {
      "cell_type": "code",
      "source": [
        "#extracted the information and assigned it to a name by using sort values and head function\n",
        "top_10_fastest_growing_population = df[['Country', 'Net Change']].sort_values(by = 'Net Change', ascending = False).head(10)\n",
        "\n",
        "#using colour palette in seaborn to get a fading colour representation of countries\n",
        "sns.barplot(x = 'Net Change', y = 'Country', data = top_10_fastest_growing_population, orient = 'h', palette='Greens_r')\n",
        "plt.title('Top 10 Fastest Growing Populations')\n",
        "plt.rcParams['figure.figsize'] = (5,3)\n",
        "\n",
        "\n"
      ],
      "metadata": {
        "colab": {
          "base_uri": "https://localhost:8080/",
          "height": 333
        },
        "id": "kEnpO6PQLQgU",
        "outputId": "37633aad-8144-4096-bde7-afcddfb2928c"
      },
      "execution_count": 166,
      "outputs": [
        {
          "output_type": "display_data",
          "data": {
            "text/plain": [
              "<Figure size 500x300 with 1 Axes>"
            ],
            "image/png": "[encoded data removed]"
          },
          "metadata": {}
        }
      ]
    },
    {
      "cell_type": "markdown",
      "source": [
        "### 'INDIA' has the fastest growing population as compared to rest of the world while 'NIGERIA' and 'PAKISTAN' being the second and third fast growing respectively."
      ],
      "metadata": {
        "id": "QfAOrLaUs4QI"
      }
    },
    {
      "cell_type": "markdown",
      "source": [
        "# Visualizing the Top 10 Fastest Growing Populations in a Bar Chart"
      ],
      "metadata": {
        "id": "N1jFhqvqrzPK"
      }
    },
    {
      "cell_type": "code",
      "source": [
        "#extracted the information and assigned it to a name by using sort values and head function\n",
        "top_10_fastest_shriniking_population = df[['Country', 'Net Change']].sort_values(by = 'Net Change', ascending = True).head(10)\n",
        "\n",
        "#using colour palette in seaborn to get a fading colour representation of countries\n",
        "sns.barplot(x = 'Net Change', y = 'Country', data = top_10_fastest_shriniking_population, orient = 'h', palette='Reds_r')\n",
        "plt.title('Top 10 Fastest Shrinking Populations')\n",
        "plt.rcParams['figure.figsize'] = (10,7)\n"
      ],
      "metadata": {
        "colab": {
          "base_uri": "https://localhost:8080/",
          "height": 333
        },
        "id": "b-VuCFGhRbTP",
        "outputId": "6f6066ad-fee4-4ad5-d72f-9bfd0bef8f16"
      },
      "execution_count": 167,
      "outputs": [
        {
          "output_type": "display_data",
          "data": {
            "text/plain": [
              "<Figure size 500x300 with 1 Axes>"
            ],
            "image/png": "[encoded data removed]"
          },
          "metadata": {}
        }
      ]
    },
    {
      "cell_type": "markdown",
      "source": [
        "### Fastest shrinking population is of 'UKRAINE' with 'JAPAN' being the second."
      ],
      "metadata": {
        "id": "pwfKCLMotMj9"
      }
    },
    {
      "cell_type": "markdown",
      "source": [
        "# Visualization of World Share of top 5 countries by population"
      ],
      "metadata": {
        "id": "3AfN1HyTsHR2"
      }
    },
    {
      "cell_type": "code",
      "source": [
        "#using head function to get the top 5 countries and storing it in labels\n",
        "labels = df['Country'].head()\n",
        "data = df['World Share'].head()\n",
        "\n",
        "#using plt to make the pie chart\n",
        "plt.pie(data, labels = labels, autopct='%.0f%%')\n",
        "plt.title('World Share of top 5 Countries')\n",
        "plt.show()\n"
      ],
      "metadata": {
        "colab": {
          "base_uri": "https://localhost:8080/",
          "height": 598
        },
        "id": "OgcIky__eXe4",
        "outputId": "7525800b-78fd-4178-f8dd-3c016b766cd6"
      },
      "execution_count": 162,
      "outputs": [
        {
          "output_type": "display_data",
          "data": {
            "text/plain": [
              "<Figure size 1000x700 with 1 Axes>"
            ],
            "image/png": "[encoded data removed]"
          },
          "metadata": {}
        }
      ]
    },
    {
      "cell_type": "markdown",
      "source": [
        "### 'INDIA' and \"CHINA',both holds 38% of the World Population which is significantly higher than the third contributor i.e. 'UNITES STATES'."
      ],
      "metadata": {
        "id": "H9V5fxqJtYzJ"
      }
    },
    {
      "cell_type": "markdown",
      "source": [
        "# Visuals of Migrations in Top 10 Populated Countries"
      ],
      "metadata": {
        "id": "PFPRLQLwt4k6"
      }
    },
    {
      "cell_type": "code",
      "source": [
        "migration = df[['Country', 'Migrants(net)']].head(10)\n",
        "\n",
        "#using if else condition to provide different colours to positive and negative migrations\n",
        "cols = ['Red' if (y < 0) else 'Green' for y in df['Migrants(net)']]\n",
        "sns.barplot(x = 'Country', y = 'Migrants(net)', data = migration, palette=cols)\n",
        "\n",
        "plt.title('Migration in and from Top 10 Populated Countries')\n",
        "plt.rcParams['figure.figsize'] = (13,7)"
      ],
      "metadata": {
        "colab": {
          "base_uri": "https://localhost:8080/",
          "height": 641
        },
        "id": "Xo9949fYfH63",
        "outputId": "593bf080-3de2-4f85-837b-0f1fbad8fdd4"
      },
      "execution_count": 231,
      "outputs": [
        {
          "output_type": "display_data",
          "data": {
            "text/plain": [
              "<Figure size 1300x700 with 1 Axes>"
            ],
            "image/png": "[encoded data removed]"
          },
          "metadata": {}
        }
      ]
    },
    {
      "cell_type": "markdown",
      "source": [
        "### Maximum number of people left 'INDIA' wheras 'UNITES STATES' is seen to be popular with migrants coming from other countries."
      ],
      "metadata": {
        "id": "5t_tZEEXuNeq"
      }
    },
    {
      "cell_type": "markdown",
      "source": [
        "# Pie chart of the Land Area of Top 10 Countries"
      ],
      "metadata": {
        "id": "yXC2ZDRHumUf"
      }
    },
    {
      "cell_type": "code",
      "source": [
        "#extracting necessary information from the dataframe\n",
        "labels = df['Country'].head(10)\n",
        "data = df['Land Area (Km²)'].head(10)\n",
        "\n",
        "#using pie chart tovisualize the land are data\n",
        "plt.pie(data, labels = labels, autopct='%.0f%%')\n",
        "plt.title('Land Area of Top 10 Countries')\n",
        "plt.show()\n"
      ],
      "metadata": {
        "colab": {
          "base_uri": "https://localhost:8080/",
          "height": 598
        },
        "id": "tS3cYeQLjS22",
        "outputId": "7e4de7b9-09d2-4611-8e92-d65033e7d6fe"
      },
      "execution_count": 217,
      "outputs": [
        {
          "output_type": "display_data",
          "data": {
            "text/plain": [
              "<Figure size 1300x700 with 1 Axes>"
            ],
            "image/png": "[encoded data removed]"
          },
          "metadata": {}
        }
      ]
    },
    {
      "cell_type": "markdown",
      "source": [
        "### Land Area of 'Russia' is largest among the top 10 most populated countries with 'BANGLADESH' having the smallest land area."
      ],
      "metadata": {
        "id": "_PdGxXGuvS2t"
      }
    },
    {
      "cell_type": "code",
      "source": [],
      "metadata": {
        "id": "SQZ0NQI8wySN"
      },
      "execution_count": null,
      "outputs": []
    }
  ]
}